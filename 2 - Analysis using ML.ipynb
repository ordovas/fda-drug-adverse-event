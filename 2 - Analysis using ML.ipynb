{
 "cells": [
  {
   "attachments": {},
   "cell_type": "markdown",
   "id": "99a64184",
   "metadata": {},
   "source": [
    "# FDA Drug adverse event reports\n",
    "\n",
    "In the previous notebook we have created a dataset (`selection.csv`) with a recordsselection of serious adverse effects of the top 5 Multiple Sclerosis drugs reported in the United States among patients aged 55 and above. In this second notebook we focus on the analysis of that selection. \n",
    "\n",
    "### Analysis using ML\n",
    "\n",
    "First we import all the necessary libraries:"
   ]
  },
  {
   "cell_type": "code",
   "execution_count": 1,
   "id": "014c489b",
   "metadata": {},
   "outputs": [
    {
     "name": "stderr",
     "output_type": "stream",
     "text": [
      "D:\\anaconda3\\envs\\datas\\lib\\site-packages\\tqdm\\auto.py:22: TqdmWarning: IProgress not found. Please update jupyter and ipywidgets. See https://ipywidgets.readthedocs.io/en/stable/user_install.html\n",
      "  from .autonotebook import tqdm as notebook_tqdm\n"
     ]
    }
   ],
   "source": [
    "import numpy as np\n",
    "import pandas as pd \n",
    "import matplotlib.pyplot as plt\n",
    "\n",
    "from sklearn.model_selection import cross_val_score\n",
    "from sklearn.model_selection import KFold\n",
    "from sklearn.model_selection import GridSearchCV\n",
    "from sklearn.compose import ColumnTransformer\n",
    "from scipy.stats import zscore\n",
    "\n",
    "from sklearn.preprocessing import OneHotEncoder\n",
    "from sklearn.preprocessing import MinMaxScaler\n",
    "from sklearn.model_selection import train_test_split\n",
    "from sklearn.ensemble import RandomForestClassifier\n",
    "\n",
    "from imblearn.pipeline import Pipeline\n",
    "from imblearn.over_sampling import SMOTE\n",
    "from sklearn.model_selection import RepeatedStratifiedKFold\n",
    "\n",
    "from sklearn.metrics import accuracy_score, classification_report\n",
    "from sklearn.metrics import confusion_matrix\n",
    "from mlxtend.plotting import plot_confusion_matrix\n",
    "import shap\n",
    "\n",
    "pd.set_option('display.max_columns', None)"
   ]
  },
  {
   "cell_type": "markdown",
   "id": "de0556fb",
   "metadata": {},
   "source": [
    "We load the dataset as a panda's DataFrame"
   ]
  },
  {
   "cell_type": "code",
   "execution_count": 2,
   "id": "921fb05d",
   "metadata": {},
   "outputs": [],
   "source": [
    "df = pd.read_csv(\"selection.csv\")"
   ]
  },
  {
   "cell_type": "markdown",
   "id": "b5d38fc2",
   "metadata": {},
   "source": [
    "### Preparing the dataset for the training process\n",
    "\n",
    "We are going to add a column with random numbers between 0 and 1 to compare later on the importance of this random feature to predict if there are going to be adverse events with the importance of other columns of the dataframe."
   ]
  },
  {
   "cell_type": "code",
   "execution_count": 3,
   "id": "2925c09e",
   "metadata": {},
   "outputs": [],
   "source": [
    "df[\"random\"] = np.random.rand(len(df))"
   ]
  },
  {
   "cell_type": "code",
   "execution_count": 4,
   "id": "f4723fd7",
   "metadata": {},
   "outputs": [
    {
     "data": {
      "text/html": [
       "<div>\n",
       "<style scoped>\n",
       "    .dataframe tbody tr th:only-of-type {\n",
       "        vertical-align: middle;\n",
       "    }\n",
       "\n",
       "    .dataframe tbody tr th {\n",
       "        vertical-align: top;\n",
       "    }\n",
       "\n",
       "    .dataframe thead th {\n",
       "        text-align: right;\n",
       "    }\n",
       "</style>\n",
       "<table border=\"1\" class=\"dataframe\">\n",
       "  <thead>\n",
       "    <tr style=\"text-align: right;\">\n",
       "      <th></th>\n",
       "      <th>reactionoutcome</th>\n",
       "      <th>patient.patientweight</th>\n",
       "      <th>patient.patientonsetage</th>\n",
       "      <th>patient.patientsex</th>\n",
       "      <th>drugseparatedosagenumb</th>\n",
       "      <th>drugintervaldosageunitnumb</th>\n",
       "      <th>n_drug</th>\n",
       "      <th>actiondrug</th>\n",
       "      <th>openfda.brand_name</th>\n",
       "      <th>serious</th>\n",
       "      <th>random</th>\n",
       "    </tr>\n",
       "  </thead>\n",
       "  <tbody>\n",
       "    <tr>\n",
       "      <th>682</th>\n",
       "      <td>3</td>\n",
       "      <td>54.480</td>\n",
       "      <td>55</td>\n",
       "      <td>2</td>\n",
       "      <td>1.0</td>\n",
       "      <td>6</td>\n",
       "      <td>6</td>\n",
       "      <td>unknown</td>\n",
       "      <td>OCREVUS</td>\n",
       "      <td>1</td>\n",
       "      <td>0.057247</td>\n",
       "    </tr>\n",
       "    <tr>\n",
       "      <th>138</th>\n",
       "      <td>2</td>\n",
       "      <td>99.880</td>\n",
       "      <td>60</td>\n",
       "      <td>2</td>\n",
       "      <td>1.0</td>\n",
       "      <td>2</td>\n",
       "      <td>13</td>\n",
       "      <td>unknown</td>\n",
       "      <td>OCREVUS</td>\n",
       "      <td>1</td>\n",
       "      <td>0.990020</td>\n",
       "    </tr>\n",
       "    <tr>\n",
       "      <th>361</th>\n",
       "      <td>1</td>\n",
       "      <td>90.800</td>\n",
       "      <td>55</td>\n",
       "      <td>2</td>\n",
       "      <td>1.0</td>\n",
       "      <td>6</td>\n",
       "      <td>2</td>\n",
       "      <td>na</td>\n",
       "      <td>OCREVUS</td>\n",
       "      <td>0</td>\n",
       "      <td>0.145836</td>\n",
       "    </tr>\n",
       "    <tr>\n",
       "      <th>274</th>\n",
       "      <td>2</td>\n",
       "      <td>78.996</td>\n",
       "      <td>55</td>\n",
       "      <td>2</td>\n",
       "      <td>1.0</td>\n",
       "      <td>2</td>\n",
       "      <td>7</td>\n",
       "      <td>reduced</td>\n",
       "      <td>OCREVUS</td>\n",
       "      <td>1</td>\n",
       "      <td>0.852804</td>\n",
       "    </tr>\n",
       "    <tr>\n",
       "      <th>428</th>\n",
       "      <td>6</td>\n",
       "      <td>61.744</td>\n",
       "      <td>62</td>\n",
       "      <td>2</td>\n",
       "      <td>1.0</td>\n",
       "      <td>6</td>\n",
       "      <td>4</td>\n",
       "      <td>unknown</td>\n",
       "      <td>OCREVUS</td>\n",
       "      <td>1</td>\n",
       "      <td>0.251937</td>\n",
       "    </tr>\n",
       "  </tbody>\n",
       "</table>\n",
       "</div>"
      ],
      "text/plain": [
       "     reactionoutcome  patient.patientweight  patient.patientonsetage  \\\n",
       "682                3                 54.480                       55   \n",
       "138                2                 99.880                       60   \n",
       "361                1                 90.800                       55   \n",
       "274                2                 78.996                       55   \n",
       "428                6                 61.744                       62   \n",
       "\n",
       "     patient.patientsex  drugseparatedosagenumb  drugintervaldosageunitnumb  \\\n",
       "682                   2                     1.0                           6   \n",
       "138                   2                     1.0                           2   \n",
       "361                   2                     1.0                           6   \n",
       "274                   2                     1.0                           2   \n",
       "428                   2                     1.0                           6   \n",
       "\n",
       "     n_drug actiondrug openfda.brand_name  serious    random  \n",
       "682       6    unknown            OCREVUS        1  0.057247  \n",
       "138      13    unknown            OCREVUS        1  0.990020  \n",
       "361       2         na            OCREVUS        0  0.145836  \n",
       "274       7    reduced            OCREVUS        1  0.852804  \n",
       "428       4    unknown            OCREVUS        1  0.251937  "
      ]
     },
     "execution_count": 4,
     "metadata": {},
     "output_type": "execute_result"
    }
   ],
   "source": [
    "df.sample(5)"
   ]
  },
  {
   "cell_type": "code",
   "execution_count": 5,
   "id": "31d4b661",
   "metadata": {},
   "outputs": [
    {
     "name": "stdout",
     "output_type": "stream",
     "text": [
      "<class 'pandas.core.frame.DataFrame'>\n",
      "RangeIndex: 980 entries, 0 to 979\n",
      "Data columns (total 11 columns):\n",
      " #   Column                      Non-Null Count  Dtype  \n",
      "---  ------                      --------------  -----  \n",
      " 0   reactionoutcome             980 non-null    int64  \n",
      " 1   patient.patientweight       980 non-null    float64\n",
      " 2   patient.patientonsetage     980 non-null    int64  \n",
      " 3   patient.patientsex          980 non-null    int64  \n",
      " 4   drugseparatedosagenumb      980 non-null    float64\n",
      " 5   drugintervaldosageunitnumb  980 non-null    int64  \n",
      " 6   n_drug                      980 non-null    int64  \n",
      " 7   actiondrug                  980 non-null    object \n",
      " 8   openfda.brand_name          980 non-null    object \n",
      " 9   serious                     980 non-null    int64  \n",
      " 10  random                      980 non-null    float64\n",
      "dtypes: float64(3), int64(6), object(2)\n",
      "memory usage: 84.3+ KB\n"
     ]
    }
   ],
   "source": [
    "df.info()"
   ]
  },
  {
   "cell_type": "markdown",
   "id": "d80b99be",
   "metadata": {},
   "source": [
    "As a first step we will divide the dataset between the dependent and independent vatiables. The oucome is the column `serious`"
   ]
  },
  {
   "cell_type": "code",
   "execution_count": 6,
   "id": "8938b1f6",
   "metadata": {},
   "outputs": [],
   "source": [
    "y = df[\"serious\"]\n",
    "X = df.drop(columns=[\"serious\"])"
   ]
  },
  {
   "cell_type": "markdown",
   "id": "8ee2db71",
   "metadata": {},
   "source": [
    "We will check the correlation between the numerical values just in case there are any of those that are highly correlated, so we can exclude them to avoid issues related to degeneration.\n",
    "\n",
    "After checking, we do not find any highly correlated features."
   ]
  },
  {
   "cell_type": "code",
   "execution_count": 7,
   "id": "89d87504",
   "metadata": {},
   "outputs": [
    {
     "name": "stdout",
     "output_type": "stream",
     "text": [
      "[]\n"
     ]
    }
   ],
   "source": [
    "corr_matrix = X.corr().abs()\n",
    "corr_matrix\n",
    "\n",
    "# Select upper triangle of correlation matrix\n",
    "upper = corr_matrix.where(np.triu(np.ones(corr_matrix.shape), k=1).astype(bool))\n",
    "\n",
    "# Find features with correlation greater than 0.95\n",
    "to_drop = [column for column in upper.columns if any(upper[column] > 0.95)]\n",
    "print(to_drop)"
   ]
  },
  {
   "cell_type": "markdown",
   "id": "af5436e0",
   "metadata": {},
   "source": [
    "The next step is to create a process to modify the features of the dataframe. For the categorical variables we will create numerical columns for each category, filled with 0's and 1's. For the numerical values we scale them using a MinMaxScaler."
   ]
  },
  {
   "cell_type": "code",
   "execution_count": 8,
   "id": "e1ad47f0",
   "metadata": {},
   "outputs": [],
   "source": [
    "numerical_ix = X.select_dtypes(include=['int64', 'float64']).columns\n",
    "categorical_ix = X.select_dtypes(include=['object']).columns\n",
    "# define the data preparation for the columns\n",
    "t = [('cat', OneHotEncoder(), categorical_ix), \n",
    "     ('num', MinMaxScaler(), numerical_ix)]\n",
    "col_transform = ColumnTransformer(transformers=t)"
   ]
  },
  {
   "cell_type": "markdown",
   "id": "1d3171f0",
   "metadata": {},
   "source": [
    "Now we divide the dataset between train and test samples, but we still need to preprocess the data in the train subsample. This is to avoid data leakage."
   ]
  },
  {
   "cell_type": "code",
   "execution_count": 9,
   "id": "32ca4597",
   "metadata": {},
   "outputs": [],
   "source": [
    "X_train_raw, X_test_raw, y_train, y_test = train_test_split(X, y, test_size=0.2, random_state=42)"
   ]
  },
  {
   "cell_type": "markdown",
   "id": "c1b7fbe5",
   "metadata": {},
   "source": [
    "We apply the previous column transformer and we check if there are outliers in the train sample using the Z score (with a threshold of 3). Luckily, there are no data points that are needed to be discarded as outliers based on this criteria."
   ]
  },
  {
   "cell_type": "code",
   "execution_count": 10,
   "id": "e3b2276a",
   "metadata": {},
   "outputs": [
    {
     "name": "stdout",
     "output_type": "stream",
     "text": [
      "Outliers = 0\n"
     ]
    }
   ],
   "source": [
    "X_train = col_transform.fit_transform(X_train_raw)\n",
    "X_test = col_transform.transform(X_test_raw)\n",
    "X_train = pd.DataFrame(X_train, columns=col_transform.get_feature_names_out())\n",
    "X_test = pd.DataFrame(X_test, columns=col_transform.get_feature_names_out())\n",
    "\n",
    "not_outliers = (np.abs(zscore(X_train)) < 3).any(axis=1)\n",
    "print(f\"Outliers = {sum(~not_outliers)}\")\n",
    "if sum(~not_outliers) > 0:\n",
    "    X_train = pd.DataFrame(X_train)[not_outliers]\n",
    "    y_train = y_train[not_outliers.values]"
   ]
  },
  {
   "cell_type": "markdown",
   "id": "b7ed82ee",
   "metadata": {},
   "source": [
    "### Random forest modelling with all the features\n",
    "\n",
    "The model used in this exercise is going to be a Random Forest, as we want to assess more complex relations than linear relations between the features and the outcome. \n",
    "\n",
    "As this is an unbalanced dataset, we need to take into account this to avoid poor performance of the model. Among all the possibilities, here we are going to upsample the class that has less datapoint using SMOTE.\n",
    "\n",
    "For the cross validation to choose the best parapeters of the Random Forest we are going to use the repeated stratified K-Fold."
   ]
  },
  {
   "cell_type": "code",
   "execution_count": 11,
   "id": "d387f2f3",
   "metadata": {},
   "outputs": [],
   "source": [
    "model = RandomForestClassifier(random_state=42)\n",
    "crosval = RepeatedStratifiedKFold(n_splits=5, n_repeats=3, random_state=42)\n",
    "\n",
    "pipeline = Pipeline(\n",
    "    steps=[('oversampling', SMOTE()), ('model', model)])\n",
    "\n",
    "param_grid = {\n",
    "    'model__max_depth':[3,5,10,None],\n",
    "    'model__n_estimators':[10,25,50,100,150],\n",
    "    'model__max_features':[5,10,15]\n",
    "}\n",
    "\n",
    "grid = GridSearchCV(pipeline,param_grid, n_jobs=-1, cv=crosval,verbose=1,scoring='f1',error_score=0)"
   ]
  },
  {
   "cell_type": "code",
   "execution_count": 12,
   "id": "546aa703",
   "metadata": {},
   "outputs": [
    {
     "name": "stdout",
     "output_type": "stream",
     "text": [
      "Fitting 15 folds for each of 60 candidates, totalling 900 fits\n"
     ]
    },
    {
     "data": {
      "text/html": [
       "<style>#sk-container-id-1 {color: black;background-color: white;}#sk-container-id-1 pre{padding: 0;}#sk-container-id-1 div.sk-toggleable {background-color: white;}#sk-container-id-1 label.sk-toggleable__label {cursor: pointer;display: block;width: 100%;margin-bottom: 0;padding: 0.3em;box-sizing: border-box;text-align: center;}#sk-container-id-1 label.sk-toggleable__label-arrow:before {content: \"▸\";float: left;margin-right: 0.25em;color: #696969;}#sk-container-id-1 label.sk-toggleable__label-arrow:hover:before {color: black;}#sk-container-id-1 div.sk-estimator:hover label.sk-toggleable__label-arrow:before {color: black;}#sk-container-id-1 div.sk-toggleable__content {max-height: 0;max-width: 0;overflow: hidden;text-align: left;background-color: #f0f8ff;}#sk-container-id-1 div.sk-toggleable__content pre {margin: 0.2em;color: black;border-radius: 0.25em;background-color: #f0f8ff;}#sk-container-id-1 input.sk-toggleable__control:checked~div.sk-toggleable__content {max-height: 200px;max-width: 100%;overflow: auto;}#sk-container-id-1 input.sk-toggleable__control:checked~label.sk-toggleable__label-arrow:before {content: \"▾\";}#sk-container-id-1 div.sk-estimator input.sk-toggleable__control:checked~label.sk-toggleable__label {background-color: #d4ebff;}#sk-container-id-1 div.sk-label input.sk-toggleable__control:checked~label.sk-toggleable__label {background-color: #d4ebff;}#sk-container-id-1 input.sk-hidden--visually {border: 0;clip: rect(1px 1px 1px 1px);clip: rect(1px, 1px, 1px, 1px);height: 1px;margin: -1px;overflow: hidden;padding: 0;position: absolute;width: 1px;}#sk-container-id-1 div.sk-estimator {font-family: monospace;background-color: #f0f8ff;border: 1px dotted black;border-radius: 0.25em;box-sizing: border-box;margin-bottom: 0.5em;}#sk-container-id-1 div.sk-estimator:hover {background-color: #d4ebff;}#sk-container-id-1 div.sk-parallel-item::after {content: \"\";width: 100%;border-bottom: 1px solid gray;flex-grow: 1;}#sk-container-id-1 div.sk-label:hover label.sk-toggleable__label {background-color: #d4ebff;}#sk-container-id-1 div.sk-serial::before {content: \"\";position: absolute;border-left: 1px solid gray;box-sizing: border-box;top: 0;bottom: 0;left: 50%;z-index: 0;}#sk-container-id-1 div.sk-serial {display: flex;flex-direction: column;align-items: center;background-color: white;padding-right: 0.2em;padding-left: 0.2em;position: relative;}#sk-container-id-1 div.sk-item {position: relative;z-index: 1;}#sk-container-id-1 div.sk-parallel {display: flex;align-items: stretch;justify-content: center;background-color: white;position: relative;}#sk-container-id-1 div.sk-item::before, #sk-container-id-1 div.sk-parallel-item::before {content: \"\";position: absolute;border-left: 1px solid gray;box-sizing: border-box;top: 0;bottom: 0;left: 50%;z-index: -1;}#sk-container-id-1 div.sk-parallel-item {display: flex;flex-direction: column;z-index: 1;position: relative;background-color: white;}#sk-container-id-1 div.sk-parallel-item:first-child::after {align-self: flex-end;width: 50%;}#sk-container-id-1 div.sk-parallel-item:last-child::after {align-self: flex-start;width: 50%;}#sk-container-id-1 div.sk-parallel-item:only-child::after {width: 0;}#sk-container-id-1 div.sk-dashed-wrapped {border: 1px dashed gray;margin: 0 0.4em 0.5em 0.4em;box-sizing: border-box;padding-bottom: 0.4em;background-color: white;}#sk-container-id-1 div.sk-label label {font-family: monospace;font-weight: bold;display: inline-block;line-height: 1.2em;}#sk-container-id-1 div.sk-label-container {text-align: center;}#sk-container-id-1 div.sk-container {/* jupyter's `normalize.less` sets `[hidden] { display: none; }` but bootstrap.min.css set `[hidden] { display: none !important; }` so we also need the `!important` here to be able to override the default hidden behavior on the sphinx rendered scikit-learn.org. See: https://github.com/scikit-learn/scikit-learn/issues/21755 */display: inline-block !important;position: relative;}#sk-container-id-1 div.sk-text-repr-fallback {display: none;}</style><div id=\"sk-container-id-1\" class=\"sk-top-container\"><div class=\"sk-text-repr-fallback\"><pre>GridSearchCV(cv=RepeatedStratifiedKFold(n_repeats=3, n_splits=5, random_state=42),\n",
       "             error_score=0,\n",
       "             estimator=Pipeline(steps=[(&#x27;oversampling&#x27;, SMOTE()),\n",
       "                                       (&#x27;model&#x27;,\n",
       "                                        RandomForestClassifier(random_state=42))]),\n",
       "             n_jobs=-1,\n",
       "             param_grid={&#x27;model__max_depth&#x27;: [3, 5, 10, None],\n",
       "                         &#x27;model__max_features&#x27;: [5, 10, 15],\n",
       "                         &#x27;model__n_estimators&#x27;: [10, 25, 50, 100, 150]},\n",
       "             scoring=&#x27;f1&#x27;, verbose=1)</pre><b>In a Jupyter environment, please rerun this cell to show the HTML representation or trust the notebook. <br />On GitHub, the HTML representation is unable to render, please try loading this page with nbviewer.org.</b></div><div class=\"sk-container\" hidden><div class=\"sk-item sk-dashed-wrapped\"><div class=\"sk-label-container\"><div class=\"sk-label sk-toggleable\"><input class=\"sk-toggleable__control sk-hidden--visually\" id=\"sk-estimator-id-1\" type=\"checkbox\" ><label for=\"sk-estimator-id-1\" class=\"sk-toggleable__label sk-toggleable__label-arrow\">GridSearchCV</label><div class=\"sk-toggleable__content\"><pre>GridSearchCV(cv=RepeatedStratifiedKFold(n_repeats=3, n_splits=5, random_state=42),\n",
       "             error_score=0,\n",
       "             estimator=Pipeline(steps=[(&#x27;oversampling&#x27;, SMOTE()),\n",
       "                                       (&#x27;model&#x27;,\n",
       "                                        RandomForestClassifier(random_state=42))]),\n",
       "             n_jobs=-1,\n",
       "             param_grid={&#x27;model__max_depth&#x27;: [3, 5, 10, None],\n",
       "                         &#x27;model__max_features&#x27;: [5, 10, 15],\n",
       "                         &#x27;model__n_estimators&#x27;: [10, 25, 50, 100, 150]},\n",
       "             scoring=&#x27;f1&#x27;, verbose=1)</pre></div></div></div><div class=\"sk-parallel\"><div class=\"sk-parallel-item\"><div class=\"sk-item\"><div class=\"sk-label-container\"><div class=\"sk-label sk-toggleable\"><input class=\"sk-toggleable__control sk-hidden--visually\" id=\"sk-estimator-id-2\" type=\"checkbox\" ><label for=\"sk-estimator-id-2\" class=\"sk-toggleable__label sk-toggleable__label-arrow\">estimator: Pipeline</label><div class=\"sk-toggleable__content\"><pre>Pipeline(steps=[(&#x27;oversampling&#x27;, SMOTE()),\n",
       "                (&#x27;model&#x27;, RandomForestClassifier(random_state=42))])</pre></div></div></div><div class=\"sk-serial\"><div class=\"sk-item\"><div class=\"sk-serial\"><div class=\"sk-item\"><div class=\"sk-estimator sk-toggleable\"><input class=\"sk-toggleable__control sk-hidden--visually\" id=\"sk-estimator-id-3\" type=\"checkbox\" ><label for=\"sk-estimator-id-3\" class=\"sk-toggleable__label sk-toggleable__label-arrow\">SMOTE</label><div class=\"sk-toggleable__content\"><pre>SMOTE()</pre></div></div></div><div class=\"sk-item\"><div class=\"sk-estimator sk-toggleable\"><input class=\"sk-toggleable__control sk-hidden--visually\" id=\"sk-estimator-id-4\" type=\"checkbox\" ><label for=\"sk-estimator-id-4\" class=\"sk-toggleable__label sk-toggleable__label-arrow\">RandomForestClassifier</label><div class=\"sk-toggleable__content\"><pre>RandomForestClassifier(random_state=42)</pre></div></div></div></div></div></div></div></div></div></div></div></div>"
      ],
      "text/plain": [
       "GridSearchCV(cv=RepeatedStratifiedKFold(n_repeats=3, n_splits=5, random_state=42),\n",
       "             error_score=0,\n",
       "             estimator=Pipeline(steps=[('oversampling', SMOTE()),\n",
       "                                       ('model',\n",
       "                                        RandomForestClassifier(random_state=42))]),\n",
       "             n_jobs=-1,\n",
       "             param_grid={'model__max_depth': [3, 5, 10, None],\n",
       "                         'model__max_features': [5, 10, 15],\n",
       "                         'model__n_estimators': [10, 25, 50, 100, 150]},\n",
       "             scoring='f1', verbose=1)"
      ]
     },
     "execution_count": 12,
     "metadata": {},
     "output_type": "execute_result"
    }
   ],
   "source": [
    "grid.fit(X_train, y_train)"
   ]
  },
  {
   "cell_type": "markdown",
   "id": "cb54e2bc",
   "metadata": {},
   "source": [
    "The summary of the results of the random forest model using the test dataset can be found below:"
   ]
  },
  {
   "cell_type": "code",
   "execution_count": 13,
   "id": "a4a9acfd",
   "metadata": {},
   "outputs": [
    {
     "name": "stdout",
     "output_type": "stream",
     "text": [
      "              precision    recall  f1-score   support\n",
      "\n",
      "           0       0.97      0.80      0.88        44\n",
      "           1       0.94      0.99      0.97       152\n",
      "\n",
      "    accuracy                           0.95       196\n",
      "   macro avg       0.96      0.89      0.92       196\n",
      "weighted avg       0.95      0.95      0.95       196\n",
      "\n"
     ]
    }
   ],
   "source": [
    "y_pred = grid.predict(X_test)\n",
    "print(classification_report(y_test,y_pred))"
   ]
  },
  {
   "cell_type": "code",
   "execution_count": 14,
   "id": "c392626b",
   "metadata": {},
   "outputs": [
    {
     "data": {
      "image/png": "[encoded data removed]",
      "text/plain": [
       "<Figure size 640x480 with 1 Axes>"
      ]
     },
     "metadata": {},
     "output_type": "display_data"
    }
   ],
   "source": [
    "plot_confusion_matrix(confusion_matrix(y_test,y_pred))\n",
    "plt.title(f\"Confusion Matrix\")\n",
    "plt.show()"
   ]
  },
  {
   "cell_type": "code",
   "execution_count": 15,
   "id": "97b25a81",
   "metadata": {},
   "outputs": [
    {
     "name": "stdout",
     "output_type": "stream",
     "text": [
      "              precision    recall  f1-score   support\n",
      "\n",
      "           0       0.97      0.80      0.88        44\n",
      "           1       0.94      0.99      0.97       152\n",
      "\n",
      "    accuracy                           0.95       196\n",
      "   macro avg       0.96      0.89      0.92       196\n",
      "weighted avg       0.95      0.95      0.95       196\n",
      "\n"
     ]
    }
   ],
   "source": [
    "print(classification_report(y_test,y_pred))"
   ]
  },
  {
   "cell_type": "markdown",
   "id": "6921688d",
   "metadata": {},
   "source": [
    "The results of this model are satisfactory, with F1 score above 0.8 and the recall of the class that has less datapoints is also above 0.8.\n",
    "\n",
    "### Selecting the relevant features\n",
    "\n",
    "Now we are going to check which features are actually contributing and which are not important. To do so we use the feature importance values from the Random Forest class and compare those values with the importance of the feature with random vaues we added at the begining of this notebook."
   ]
  },
  {
   "cell_type": "code",
   "execution_count": 16,
   "id": "cb8ad406",
   "metadata": {},
   "outputs": [],
   "source": [
    "s = pd.Series(\n",
    "    grid.best_estimator_._final_estimator.feature_importances_,\n",
    "    index=X_test.columns\n",
    ")"
   ]
  },
  {
   "cell_type": "code",
   "execution_count": 17,
   "id": "456b6a2a",
   "metadata": {},
   "outputs": [
    {
     "data": {
      "text/plain": [
       "num__patient.patientweight                                     0.237702\n",
       "num__n_drug                                                    0.212984\n",
       "num__patient.patientonsetage                                   0.171163\n",
       "num__drugintervaldosageunitnumb                                0.078407\n",
       "num__random                                                    0.057861\n",
       "num__reactionoutcome                                           0.056914\n",
       "cat__actiondrug_unknown                                        0.034480\n",
       "num__patient.patientsex                                        0.029439\n",
       "cat__actiondrug_increased                                      0.025605\n",
       "cat__openfda.brand_name_AUBAGIO                                0.019881\n",
       "cat__openfda.brand_name_OCREVUS                                0.014906\n",
       "cat__actiondrug_reduced                                        0.014734\n",
       "num__drugseparatedosagenumb                                    0.014248\n",
       "cat__openfda.brand_name_AUBAGIO,TERIFLUNOMIDE                  0.010815\n",
       "cat__openfda.brand_name_GLATIRAMER ACETATE,COPAXONE,GLATOPA    0.008787\n",
       "cat__actiondrug_na                                             0.007308\n",
       "cat__openfda.brand_name_AMPYRA                                 0.004765\n",
       "dtype: float64"
      ]
     },
     "execution_count": 17,
     "metadata": {},
     "output_type": "execute_result"
    }
   ],
   "source": [
    "s.sort_values(ascending=False)"
   ]
  },
  {
   "cell_type": "markdown",
   "id": "09ec0676",
   "metadata": {},
   "source": [
    "We can observe that only 4 features are actually contributing more than the random feature, that are:\n",
    "- Patient weight \n",
    "- Number of drugs that the patient is taking \n",
    "- Age of the patient \n",
    "- Dosage of the drug\n",
    "\n",
    "### Final Random Forestmodel training using the relevant feature\n",
    "\n",
    "Given this insights, we are going to retraim the Random Forest model, but only with the features that we've found that are actually useful."
   ]
  },
  {
   "cell_type": "code",
   "execution_count": 18,
   "id": "420e7c00",
   "metadata": {},
   "outputs": [
    {
     "name": "stdout",
     "output_type": "stream",
     "text": [
      "Outliers = 0\n"
     ]
    }
   ],
   "source": [
    "Xr = X[[\"patient.patientweight\",\"n_drug\",\"patient.patientonsetage\",\"drugintervaldosageunitnumb\"]]\n",
    "\n",
    "X_train_raw, X_test_raw, y_train, y_test = train_test_split(Xr, y, test_size=0.2, random_state=42)\n",
    "\n",
    "numerical_ix = [\"patient.patientweight\",\"n_drug\",\"patient.patientonsetage\",\"drugintervaldosageunitnumb\"]\n",
    "\n",
    "# define the data preparation for the columns\n",
    "t = [('num', MinMaxScaler(), numerical_ix)]\n",
    "col_transform = ColumnTransformer(transformers=t)\n",
    "\n",
    "X_train = col_transform.fit_transform(X_train_raw)\n",
    "X_test = col_transform.transform(X_test_raw)\n",
    "\n",
    "X_train = pd.DataFrame(X_train, columns=col_transform.get_feature_names_out())\n",
    "X_test = pd.DataFrame(X_test, columns=col_transform.get_feature_names_out())\n",
    "\n",
    "not_outliers = (np.abs(zscore(X_train)) < 3).any(axis=1)\n",
    "print(f\"Outliers = {sum(~not_outliers)}\")\n",
    "if sum(~not_outliers) > 0:\n",
    "    X_train = pd.DataFrame(X_train)[not_outliers]\n",
    "    y_train = y_train[not_outliers.values]\n",
    "\n",
    "model = RandomForestClassifier(random_state=42)\n",
    "crosval = RepeatedStratifiedKFold(n_splits=5, n_repeats=3, random_state=42)\n",
    "\n",
    "\n",
    "pipeline = Pipeline(\n",
    "    steps=[\n",
    "        ('oversampling', SMOTE()), \n",
    "        ('model', model)\n",
    "    ])\n",
    "\n",
    "\n",
    "param_grid = {\n",
    "    'model__max_depth':[3,5,10,None],\n",
    "    'model__n_estimators':[10,25,50,100,150],\n",
    "    'model__max_features':[1,2,3,4,5]\n",
    "}\n",
    "\n",
    "grid2 = GridSearchCV(pipeline,param_grid, n_jobs=-1, cv=crosval,verbose=1,scoring='f1',error_score=0)"
   ]
  },
  {
   "cell_type": "code",
   "execution_count": 19,
   "id": "b13b2b07",
   "metadata": {},
   "outputs": [
    {
     "name": "stdout",
     "output_type": "stream",
     "text": [
      "Fitting 15 folds for each of 100 candidates, totalling 1500 fits\n"
     ]
    },
    {
     "data": {
      "text/html": [
       "<style>#sk-container-id-2 {color: black;background-color: white;}#sk-container-id-2 pre{padding: 0;}#sk-container-id-2 div.sk-toggleable {background-color: white;}#sk-container-id-2 label.sk-toggleable__label {cursor: pointer;display: block;width: 100%;margin-bottom: 0;padding: 0.3em;box-sizing: border-box;text-align: center;}#sk-container-id-2 label.sk-toggleable__label-arrow:before {content: \"▸\";float: left;margin-right: 0.25em;color: #696969;}#sk-container-id-2 label.sk-toggleable__label-arrow:hover:before {color: black;}#sk-container-id-2 div.sk-estimator:hover label.sk-toggleable__label-arrow:before {color: black;}#sk-container-id-2 div.sk-toggleable__content {max-height: 0;max-width: 0;overflow: hidden;text-align: left;background-color: #f0f8ff;}#sk-container-id-2 div.sk-toggleable__content pre {margin: 0.2em;color: black;border-radius: 0.25em;background-color: #f0f8ff;}#sk-container-id-2 input.sk-toggleable__control:checked~div.sk-toggleable__content {max-height: 200px;max-width: 100%;overflow: auto;}#sk-container-id-2 input.sk-toggleable__control:checked~label.sk-toggleable__label-arrow:before {content: \"▾\";}#sk-container-id-2 div.sk-estimator input.sk-toggleable__control:checked~label.sk-toggleable__label {background-color: #d4ebff;}#sk-container-id-2 div.sk-label input.sk-toggleable__control:checked~label.sk-toggleable__label {background-color: #d4ebff;}#sk-container-id-2 input.sk-hidden--visually {border: 0;clip: rect(1px 1px 1px 1px);clip: rect(1px, 1px, 1px, 1px);height: 1px;margin: -1px;overflow: hidden;padding: 0;position: absolute;width: 1px;}#sk-container-id-2 div.sk-estimator {font-family: monospace;background-color: #f0f8ff;border: 1px dotted black;border-radius: 0.25em;box-sizing: border-box;margin-bottom: 0.5em;}#sk-container-id-2 div.sk-estimator:hover {background-color: #d4ebff;}#sk-container-id-2 div.sk-parallel-item::after {content: \"\";width: 100%;border-bottom: 1px solid gray;flex-grow: 1;}#sk-container-id-2 div.sk-label:hover label.sk-toggleable__label {background-color: #d4ebff;}#sk-container-id-2 div.sk-serial::before {content: \"\";position: absolute;border-left: 1px solid gray;box-sizing: border-box;top: 0;bottom: 0;left: 50%;z-index: 0;}#sk-container-id-2 div.sk-serial {display: flex;flex-direction: column;align-items: center;background-color: white;padding-right: 0.2em;padding-left: 0.2em;position: relative;}#sk-container-id-2 div.sk-item {position: relative;z-index: 1;}#sk-container-id-2 div.sk-parallel {display: flex;align-items: stretch;justify-content: center;background-color: white;position: relative;}#sk-container-id-2 div.sk-item::before, #sk-container-id-2 div.sk-parallel-item::before {content: \"\";position: absolute;border-left: 1px solid gray;box-sizing: border-box;top: 0;bottom: 0;left: 50%;z-index: -1;}#sk-container-id-2 div.sk-parallel-item {display: flex;flex-direction: column;z-index: 1;position: relative;background-color: white;}#sk-container-id-2 div.sk-parallel-item:first-child::after {align-self: flex-end;width: 50%;}#sk-container-id-2 div.sk-parallel-item:last-child::after {align-self: flex-start;width: 50%;}#sk-container-id-2 div.sk-parallel-item:only-child::after {width: 0;}#sk-container-id-2 div.sk-dashed-wrapped {border: 1px dashed gray;margin: 0 0.4em 0.5em 0.4em;box-sizing: border-box;padding-bottom: 0.4em;background-color: white;}#sk-container-id-2 div.sk-label label {font-family: monospace;font-weight: bold;display: inline-block;line-height: 1.2em;}#sk-container-id-2 div.sk-label-container {text-align: center;}#sk-container-id-2 div.sk-container {/* jupyter's `normalize.less` sets `[hidden] { display: none; }` but bootstrap.min.css set `[hidden] { display: none !important; }` so we also need the `!important` here to be able to override the default hidden behavior on the sphinx rendered scikit-learn.org. See: https://github.com/scikit-learn/scikit-learn/issues/21755 */display: inline-block !important;position: relative;}#sk-container-id-2 div.sk-text-repr-fallback {display: none;}</style><div id=\"sk-container-id-2\" class=\"sk-top-container\"><div class=\"sk-text-repr-fallback\"><pre>GridSearchCV(cv=RepeatedStratifiedKFold(n_repeats=3, n_splits=5, random_state=42),\n",
       "             error_score=0,\n",
       "             estimator=Pipeline(steps=[(&#x27;oversampling&#x27;, SMOTE()),\n",
       "                                       (&#x27;model&#x27;,\n",
       "                                        RandomForestClassifier(random_state=42))]),\n",
       "             n_jobs=-1,\n",
       "             param_grid={&#x27;model__max_depth&#x27;: [3, 5, 10, None],\n",
       "                         &#x27;model__max_features&#x27;: [1, 2, 3, 4, 5],\n",
       "                         &#x27;model__n_estimators&#x27;: [10, 25, 50, 100, 150]},\n",
       "             scoring=&#x27;f1&#x27;, verbose=1)</pre><b>In a Jupyter environment, please rerun this cell to show the HTML representation or trust the notebook. <br />On GitHub, the HTML representation is unable to render, please try loading this page with nbviewer.org.</b></div><div class=\"sk-container\" hidden><div class=\"sk-item sk-dashed-wrapped\"><div class=\"sk-label-container\"><div class=\"sk-label sk-toggleable\"><input class=\"sk-toggleable__control sk-hidden--visually\" id=\"sk-estimator-id-5\" type=\"checkbox\" ><label for=\"sk-estimator-id-5\" class=\"sk-toggleable__label sk-toggleable__label-arrow\">GridSearchCV</label><div class=\"sk-toggleable__content\"><pre>GridSearchCV(cv=RepeatedStratifiedKFold(n_repeats=3, n_splits=5, random_state=42),\n",
       "             error_score=0,\n",
       "             estimator=Pipeline(steps=[(&#x27;oversampling&#x27;, SMOTE()),\n",
       "                                       (&#x27;model&#x27;,\n",
       "                                        RandomForestClassifier(random_state=42))]),\n",
       "             n_jobs=-1,\n",
       "             param_grid={&#x27;model__max_depth&#x27;: [3, 5, 10, None],\n",
       "                         &#x27;model__max_features&#x27;: [1, 2, 3, 4, 5],\n",
       "                         &#x27;model__n_estimators&#x27;: [10, 25, 50, 100, 150]},\n",
       "             scoring=&#x27;f1&#x27;, verbose=1)</pre></div></div></div><div class=\"sk-parallel\"><div class=\"sk-parallel-item\"><div class=\"sk-item\"><div class=\"sk-label-container\"><div class=\"sk-label sk-toggleable\"><input class=\"sk-toggleable__control sk-hidden--visually\" id=\"sk-estimator-id-6\" type=\"checkbox\" ><label for=\"sk-estimator-id-6\" class=\"sk-toggleable__label sk-toggleable__label-arrow\">estimator: Pipeline</label><div class=\"sk-toggleable__content\"><pre>Pipeline(steps=[(&#x27;oversampling&#x27;, SMOTE()),\n",
       "                (&#x27;model&#x27;, RandomForestClassifier(random_state=42))])</pre></div></div></div><div class=\"sk-serial\"><div class=\"sk-item\"><div class=\"sk-serial\"><div class=\"sk-item\"><div class=\"sk-estimator sk-toggleable\"><input class=\"sk-toggleable__control sk-hidden--visually\" id=\"sk-estimator-id-7\" type=\"checkbox\" ><label for=\"sk-estimator-id-7\" class=\"sk-toggleable__label sk-toggleable__label-arrow\">SMOTE</label><div class=\"sk-toggleable__content\"><pre>SMOTE()</pre></div></div></div><div class=\"sk-item\"><div class=\"sk-estimator sk-toggleable\"><input class=\"sk-toggleable__control sk-hidden--visually\" id=\"sk-estimator-id-8\" type=\"checkbox\" ><label for=\"sk-estimator-id-8\" class=\"sk-toggleable__label sk-toggleable__label-arrow\">RandomForestClassifier</label><div class=\"sk-toggleable__content\"><pre>RandomForestClassifier(random_state=42)</pre></div></div></div></div></div></div></div></div></div></div></div></div>"
      ],
      "text/plain": [
       "GridSearchCV(cv=RepeatedStratifiedKFold(n_repeats=3, n_splits=5, random_state=42),\n",
       "             error_score=0,\n",
       "             estimator=Pipeline(steps=[('oversampling', SMOTE()),\n",
       "                                       ('model',\n",
       "                                        RandomForestClassifier(random_state=42))]),\n",
       "             n_jobs=-1,\n",
       "             param_grid={'model__max_depth': [3, 5, 10, None],\n",
       "                         'model__max_features': [1, 2, 3, 4, 5],\n",
       "                         'model__n_estimators': [10, 25, 50, 100, 150]},\n",
       "             scoring='f1', verbose=1)"
      ]
     },
     "execution_count": 19,
     "metadata": {},
     "output_type": "execute_result"
    }
   ],
   "source": [
    "grid2.fit(X_train, y_train)"
   ]
  },
  {
   "cell_type": "markdown",
   "id": "9534020a",
   "metadata": {},
   "source": [
    "The results of this second Random Forest model are similar to the previous one, even though we only used 4 features."
   ]
  },
  {
   "cell_type": "code",
   "execution_count": 20,
   "id": "2d5bf528",
   "metadata": {},
   "outputs": [
    {
     "name": "stdout",
     "output_type": "stream",
     "text": [
      "              precision    recall  f1-score   support\n",
      "\n",
      "           0       0.95      0.84      0.89        44\n",
      "           1       0.96      0.99      0.97       152\n",
      "\n",
      "    accuracy                           0.95       196\n",
      "   macro avg       0.95      0.91      0.93       196\n",
      "weighted avg       0.95      0.95      0.95       196\n",
      "\n"
     ]
    }
   ],
   "source": [
    "y_pred=grid2.predict(X_test)\n",
    "print(classification_report(y_test,y_pred))"
   ]
  },
  {
   "cell_type": "code",
   "execution_count": 21,
   "id": "bf1af923",
   "metadata": {},
   "outputs": [
    {
     "data": {
      "image/png": "[encoded data removed]",
      "text/plain": [
       "<Figure size 640x480 with 1 Axes>"
      ]
     },
     "metadata": {},
     "output_type": "display_data"
    }
   ],
   "source": [
    "plot_confusion_matrix(confusion_matrix(y_test,y_pred))\n",
    "plt.title(f\"Confusion Matrix\")\n",
    "plt.show()"
   ]
  },
  {
   "cell_type": "markdown",
   "id": "ba67d9de",
   "metadata": {},
   "source": [
    "### Final insights\n",
    "\n",
    "Finally we are going to obtain the insights about what factors are determinant for a senior patient with MS to suffer serious adverse effects based on the data we gathered. To do so we are going to use SHAP values."
   ]
  },
  {
   "cell_type": "code",
   "execution_count": 22,
   "id": "88c3134d",
   "metadata": {},
   "outputs": [],
   "source": [
    "# Fits the explainer\n",
    "explainer = shap.Explainer(grid2.predict, X_test)\n",
    "# Calculates the SHAP values - It takes some time\n",
    "shap_values = explainer(X_test)"
   ]
  },
  {
   "cell_type": "code",
   "execution_count": 23,
   "id": "a9945c21",
   "metadata": {},
   "outputs": [
    {
     "data": {
      "image/png": "[encoded data removed]",
      "text/plain": [
       "<Figure size 800x310 with 2 Axes>"
      ]
     },
     "metadata": {},
     "output_type": "display_data"
    }
   ],
   "source": [
    "shap.summary_plot(shap_values, plot_type='violin')"
   ]
  },
  {
   "cell_type": "markdown",
   "id": "b19c8c09",
   "metadata": {},
   "source": [
    "The violin plot represents the density of values of the test sample data. The colors vary from blue to red, representing the feature values from low numbers to high values, respectively. The SHAP values provide an indication of the influence of each point on the outcome, in this case that the patient suffers serious adverse effects. Positive SHAP values indicate that a specific feature value increases the likelihood to suffer serious adverse effects, and positive values indicate the opposite.\n",
    "\n",
    "This specific analysis allows to obtain the following insights:\n",
    "- Less variety of drugs is found to be related with less likelihood of suffering serious adverse effects. Nevertheless, there are some values around -0.2 SHAP data points with high numbers of drugs that are less related to serious adverse effects.\n",
    "- Patient weight is anticorrelated with suffering serious adverse effects for the MS drugs analyzed in this project.\n",
    "- Increasing dosage increases the likelihood of suffering serious adverse effects.\n",
    "- Lastly, the patient age is found to be a bit more complex, but it seems that overall older patients are more likely to suffer serious adverse effects.\n"
   ]
  },
  {
   "cell_type": "code",
   "execution_count": null,
   "id": "9b7e0032",
   "metadata": {},
   "outputs": [],
   "source": []
  },
  {
   "cell_type": "code",
   "execution_count": null,
   "id": "e7ca06c3",
   "metadata": {},
   "outputs": [],
   "source": []
  },
  {
   "cell_type": "code",
   "execution_count": null,
   "id": "d1190a64",
   "metadata": {},
   "outputs": [],
   "source": []
  },
  {
   "cell_type": "code",
   "execution_count": null,
   "id": "8f7ff769",
   "metadata": {},
   "outputs": [],
   "source": []
  },
  {
   "cell_type": "code",
   "execution_count": null,
   "id": "06091f08",
   "metadata": {},
   "outputs": [],
   "source": []
  },
  {
   "cell_type": "code",
   "execution_count": null,
   "id": "b7b8e2ba",
   "metadata": {},
   "outputs": [],
   "source": []
  }
 ],
 "metadata": {
  "kernelspec": {
   "display_name": "Python 3 (ipykernel)",
   "language": "python",
   "name": "python3"
  },
  "language_info": {
   "codemirror_mode": {
    "name": "ipython",
    "version": 3
   },
   "file_extension": ".py",
   "mimetype": "text/x-python",
   "name": "python",
   "nbconvert_exporter": "python",
   "pygments_lexer": "ipython3",
   "version": "3.9.13"
  }
 },
 "nbformat": 4,
 "nbformat_minor": 5
}
